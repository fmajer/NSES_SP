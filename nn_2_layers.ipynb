{
 "cells": [
  {
   "cell_type": "code",
   "execution_count": 3,
   "id": "220a8db9-5315-45a3-8d17-7374c49bbf37",
   "metadata": {},
   "outputs": [],
   "source": [
    "import numpy as np\n",
    "import matplotlib.pyplot as plt"
   ]
  },
  {
   "cell_type": "markdown",
   "id": "c6bcce25-6903-44e9-a298-22af00eebbac",
   "metadata": {},
   "source": [
    "### Loading Dataset"
   ]
  },
  {
   "cell_type": "code",
   "execution_count": 15,
   "id": "651ad7c1-f9af-458a-8bde-7ab6d291b78d",
   "metadata": {},
   "outputs": [],
   "source": [
    "def load_data():\n",
    "    \"\"\"\n",
    "    Returns:\n",
    "    X - training data with dimensions (n_of_features, n_of_examples)\n",
    "    Y - labels (1 on the class index, -1 elsewhere) with dimensions (n_of_features, n_of_examples)\n",
    "    \"\"\"\n",
    "    x1 = []\n",
    "    x2 = []\n",
    "    classes = []\n",
    "    with open('tren_data1_06.txt') as f:\n",
    "        for line in f:\n",
    "            line = line.split()\n",
    "            \n",
    "            x1.append(float(line[0]))\n",
    "            x2.append(float(line[1]))\n",
    "            classes.append(int(float(line[2])))\n",
    "    \n",
    "    X = np.array([[x1, x2] for x1, x2 in zip(x1, x2)])\n",
    "    \n",
    "    classes = np.array(classes)\n",
    "    \"\"\"\n",
    "    Y = np.zeros(shape=(classes.shape[0], classes.max()))\n",
    "    Y[np.arange(classes.shape[0]), classes-1] = 1\n",
    "    \"\"\"\n",
    "    Y = np.ones(shape=(classes.shape[0], classes.max()))\n",
    "    Y[np.arange(classes.shape[0]), classes-1] = -1\n",
    "    Y = -Y\n",
    "\n",
    "    return X.T, Y.T, classes"
   ]
  },
  {
   "cell_type": "code",
   "execution_count": 16,
   "id": "f6b58d24-cf86-4c58-b077-70d9506335db",
   "metadata": {},
   "outputs": [
    {
     "name": "stdout",
     "output_type": "stream",
     "text": [
      "[ 4.0468461 -7.4922288]\n",
      "[ 1. -1. -1. -1. -1.]\n"
     ]
    }
   ],
   "source": [
    "X, Y, classes = load_data()\n",
    "\n",
    "print(X[:,0])\n",
    "print(Y[:,0])\n",
    "# print(classes)"
   ]
  },
  {
   "cell_type": "code",
   "execution_count": 17,
   "id": "00518a73-ba39-4de8-ac4e-cacd50545174",
   "metadata": {},
   "outputs": [],
   "source": [
    "def plotPoints(X, classes):\n",
    "    plt.figure(figsize=(10, 7))\n",
    "    X = np.array(X)\n",
    "    plt.scatter(X[:, 0], X[:, 1], s=10, c=classes)\n",
    "    plt.title(\"Zobrazeni dat\", fontsize=18)\n",
    "    ax = plt.gca()\n",
    "    ax.set_facecolor('white')\n",
    "    plt.show()"
   ]
  },
  {
   "cell_type": "code",
   "execution_count": 18,
   "id": "00d97594-ad8b-430e-9e9a-f4a88e85a0ef",
   "metadata": {},
   "outputs": [
    {
     "data": {
      "image/png": "[encoded data removed]",
      "text/plain": [
       "<Figure size 720x504 with 1 Axes>"
      ]
     },
     "metadata": {
      "needs_background": "light"
     },
     "output_type": "display_data"
    }
   ],
   "source": [
    "plotPoints(X.T, classes)"
   ]
  },
  {
   "cell_type": "markdown",
   "id": "48363631-3957-4409-99b5-cf2832975d9a",
   "metadata": {},
   "source": [
    "### Initialization"
   ]
  },
  {
   "cell_type": "code",
   "execution_count": 37,
   "id": "f3d4fc3c-ecf8-4dce-9746-e5238f153ffb",
   "metadata": {},
   "outputs": [],
   "source": [
    "def initialize_parameters(n_x, n_h, n_y):\n",
    "    \"\"\"\n",
    "    Argument:\n",
    "    n_x -- size of the input layer\n",
    "    n_h -- size of the hidden layer\n",
    "    n_y -- size of the output layer\n",
    "    \n",
    "    Returns:\n",
    "    params -- python dictionary containing your parameters:\n",
    "                    W1 -- weight matrix of shape (n_h, n_x)\n",
    "                    b1 -- bias vector of shape (n_h, 1)\n",
    "                    W2 -- weight matrix of shape (n_y, n_h)\n",
    "                    b2 -- bias vector of shape (n_y, 1)\n",
    "    \"\"\"\n",
    "    \n",
    "    W1 = np.random.randn(n_h, n_x) * 0.01\n",
    "    b1 = np.zeros((n_h,1))\n",
    "    W2 = np.random.randn(n_y, n_h) * 0.01\n",
    "    b2 = np.zeros((n_y,1))\n",
    "    \n",
    "    parameters = {\"W1\": W1,\n",
    "                  \"b1\": b1,\n",
    "                  \"W2\": W2,\n",
    "                  \"b2\": b2}\n",
    "    \n",
    "    return parameters"
   ]
  },
  {
   "cell_type": "code",
   "execution_count": 38,
   "id": "a1c89030-7e75-4fce-a69a-8c477adfb3f2",
   "metadata": {},
   "outputs": [
    {
     "name": "stdout",
     "output_type": "stream",
     "text": [
      "W1.shape = (10, 2)\n",
      "b1.shape = (10, 1)\n",
      "W2.shape = (5, 10)\n",
      "b2.shape = (5, 1)\n"
     ]
    }
   ],
   "source": [
    "# parametry site\n",
    "parameters = initialize_parameters(2, 10, 5)\n",
    "#print(\"W1 = \" + str(parameters[\"W1\"]))\n",
    "#print(\"b1 = \" + str(parameters[\"b1\"]))\n",
    "#print(\"W2 = \" + str(parameters[\"W2\"]))\n",
    "#print(\"b2 = \" + str(parameters[\"b2\"]))\n",
    "\n",
    "print(\"W1.shape = \" + str(parameters[\"W1\"].shape))\n",
    "print(\"b1.shape = \" + str(parameters[\"b1\"].shape))\n",
    "print(\"W2.shape = \" + str(parameters[\"W2\"].shape))\n",
    "print(\"b2.shape = \" + str(parameters[\"b2\"].shape))"
   ]
  },
  {
   "cell_type": "markdown",
   "id": "9093908f-25e4-4e43-ba88-f026a555a484",
   "metadata": {},
   "source": [
    "### Forward Propagation"
   ]
  },
  {
   "cell_type": "code",
   "execution_count": 39,
   "id": "e7e76ee5-7132-4f51-9199-96fd15ab172e",
   "metadata": {},
   "outputs": [],
   "source": [
    "def tanh(x, slope):\n",
    "    # POZN. - numpy ma vlastni tanh\n",
    "    t = 2 / (1+np.exp(-slope*x)) - 1\n",
    "    return t"
   ]
  },
  {
   "cell_type": "code",
   "execution_count": 40,
   "id": "40721c22-fe99-47cd-a9bc-81191dc044fa",
   "metadata": {},
   "outputs": [],
   "source": [
    "def forward_propagation(X, parameters, slope):\n",
    "    \"\"\"\n",
    "    Argument:\n",
    "    X - input data of size (n_x, m)\n",
    "    parameters - python dictionary containing parameters\n",
    "    \n",
    "    Returns:\n",
    "    A2 - The output of neural network\n",
    "    cache - dictionary containing \"Z1\", \"A1\", \"Z2\", \"A2\"\n",
    "    \"\"\"\n",
    "    \n",
    "    W1 = parameters[\"W1\"]\n",
    "    b1 = parameters[\"b1\"]\n",
    "    W2 = parameters[\"W2\"]\n",
    "    b2 = parameters[\"b2\"]\n",
    "    \n",
    "    Z1 = np.dot(W1, X) + b1\n",
    "    A1 = tanh(Z1, slope)\n",
    "    Z2 = np.dot(W2, A1) + b2\n",
    "    A2 = tanh(Z2, slope)\n",
    "    \n",
    "    cache = {\"Z1\": Z1,\n",
    "             \"A1\": A1,\n",
    "             \"Z2\": Z2,\n",
    "             \"A2\": A2}\n",
    "    \n",
    "    return A2, cache"
   ]
  },
  {
   "cell_type": "code",
   "execution_count": 41,
   "id": "551ae4df-b569-4fcc-b3ea-b06c6f383db5",
   "metadata": {},
   "outputs": [],
   "source": [
    "A2, cache = forward_propagation(X, parameters, slope=1)"
   ]
  },
  {
   "cell_type": "code",
   "execution_count": 42,
   "id": "a6496ed4-f8fd-4f72-a50a-370d7e536ce4",
   "metadata": {},
   "outputs": [
    {
     "name": "stdout",
     "output_type": "stream",
     "text": [
      "(5, 500)\n",
      "[-1.13033528e-03  2.37311206e-04  2.95701391e-04  7.91782972e-04\n",
      " -5.51694929e-05]\n"
     ]
    }
   ],
   "source": [
    "print(A2.shape)\n",
    "print(A2[:,250])"
   ]
  },
  {
   "cell_type": "markdown",
   "id": "ea1e2a45-8113-4693-9398-2bb6d2375f36",
   "metadata": {},
   "source": [
    "### Compute Cost"
   ]
  },
  {
   "cell_type": "code",
   "execution_count": 43,
   "id": "94686949-fc82-4cd0-881d-08b1b9c4b294",
   "metadata": {},
   "outputs": [],
   "source": [
    "def compute_cost(A, Y):\n",
    "    \"\"\"\n",
    "    Argument:\n",
    "    A - output of neural network\n",
    "    Y - correct label\n",
    "    \n",
    "    Returns:\n",
    "    E - error across all training examples\n",
    "    \"\"\"\n",
    "    \n",
    "    cost_vec = np.zeros((Y.shape[1],1))\n",
    "    \n",
    "    for i in range(Y.shape[1]):\n",
    "        cost_vec[i,0] = np.dot((Y-A)[:,i], (Y-A)[:,i].T)\n",
    "    \n",
    "    #print(cost_vec.shape)\n",
    "    summed_cost = np.sum(cost_vec, axis=0)\n",
    "    #print(summed_cost)\n",
    "    \n",
    "    E = 1/2 * summed_cost[0]\n",
    "    \n",
    "    return E"
   ]
  },
  {
   "cell_type": "code",
   "execution_count": 44,
   "id": "d00529e1-1f83-420e-8d36-9c2ecd51aa11",
   "metadata": {},
   "outputs": [
    {
     "name": "stdout",
     "output_type": "stream",
     "text": [
      "1249.5273675460485\n"
     ]
    }
   ],
   "source": [
    "E = compute_cost(A2, Y)\n",
    "print(E)"
   ]
  },
  {
   "cell_type": "markdown",
   "id": "1e2417bc-5eb6-4ef1-a76d-c2afa02ce608",
   "metadata": {},
   "source": [
    "### Backward propagation"
   ]
  },
  {
   "cell_type": "code",
   "execution_count": 218,
   "id": "07bee45c-75b6-44e7-b573-6ad112e52bbd",
   "metadata": {},
   "outputs": [],
   "source": [
    "def backward_propagation(X, Y, parameters, cache):\n",
    "    m = X.shape[1]\n",
    "    \n",
    "    W1 = parameters[\"W1\"]\n",
    "    b1 = parameters[\"b1\"]\n",
    "    W2 = parameters[\"W2\"]\n",
    "    b2 = parameters[\"b2\"]\n",
    "    \n",
    "    A1 = cache[\"A1\"]\n",
    "    A2 = cache[\"A2\"]\n",
    "    Z1 = cache[\"Z1\"]\n",
    "    Z2 = cache[\"Z2\"]\n",
    "    \n",
    "    dZ2 = (Y - A2) * (1 - np.power(\n",
    "    dW2 = (1/m) * np.dot(dZ2,A1.T)\n",
    "    db2 = (1/m) * (np.sum(dZ2,axis=1,keepdims=True))\n",
    "        \n",
    "    grads = # dictionary\n",
    "    \n",
    "    return dW, db"
   ]
  },
  {
   "cell_type": "code",
   "execution_count": 215,
   "id": "b33d2fb3-3be8-4cf4-ba4b-40e244404e3d",
   "metadata": {},
   "outputs": [
    {
     "name": "stdout",
     "output_type": "stream",
     "text": [
      "[[ 0.00891346 -0.02039106]\n",
      " [ 0.02240985  0.00357724]\n",
      " [ 0.00416295  0.02135069]\n",
      " [-0.01862887  0.01267783]\n",
      " [-0.01597693 -0.01462234]]\n",
      "[[ 0.00718844  0.0563876 ]\n",
      " [-0.01290369  0.05038874]\n",
      " [ 0.00325108 -0.04571213]\n",
      " [-0.17328662 -0.34652974]\n",
      " [ 0.06238903  0.03397149]]\n"
     ]
    }
   ],
   "source": [
    "print(W)\n",
    "dW, db = backward_propagation(A, Y, X)\n",
    "print(dW)"
   ]
  },
  {
   "cell_type": "markdown",
   "id": "a8849ec9-1fc0-41fb-aa43-5bf9bb4bae30",
   "metadata": {},
   "source": [
    "### Update parameters"
   ]
  },
  {
   "cell_type": "code",
   "execution_count": 216,
   "id": "90758795-5f9e-495c-b2c8-801b56bc87d3",
   "metadata": {},
   "outputs": [],
   "source": [
    "def update_parameters(W, b, dW, db, learning_rate):\n",
    "    W = W + learning_rate * dW\n",
    "    b = b + learning_rate * db\n",
    "    return W, b"
   ]
  },
  {
   "cell_type": "code",
   "execution_count": 217,
   "id": "dad94152-336e-4304-8ed5-fe14202f6e1b",
   "metadata": {},
   "outputs": [
    {
     "name": "stdout",
     "output_type": "stream",
     "text": [
      "(5, 1)\n"
     ]
    }
   ],
   "source": [
    "learning_rate = 0.1\n",
    "W, b = update_parameters(W, b, dW, db, learning_rate)\n",
    "print(b.shape)"
   ]
  },
  {
   "cell_type": "markdown",
   "id": "a282a8a7-f0a8-4bb1-9061-a82a3399ced2",
   "metadata": {},
   "source": [
    "## Model"
   ]
  },
  {
   "cell_type": "code",
   "execution_count": 229,
   "id": "189a6827-0f1e-4f96-bd2f-79c1d60df203",
   "metadata": {},
   "outputs": [],
   "source": [
    "def nn_model(X, Y, learning_rate, num_iterations, print_cost):\n",
    "    \n",
    "    W, b = initialize_parameters(2,5)\n",
    "    print(\"Initial weight matrix \\n\" + str(W) + \"\\n\")\n",
    "    print(\"Initial bias vector \\n\" + str(b) + \"\\n\")\n",
    "    \n",
    "    for i in range(0, num_iterations):\n",
    "        A = forward_propagation(X, W, b)\n",
    "        cost = compute_cost(A, Y)\n",
    "        dW, db = backward_propagation(A, Y, X)\n",
    "        W, b = update_parameters(W, b, dW, db, learning_rate)\n",
    "        \n",
    "        if print_cost and i % 100 == 0:\n",
    "            print (\"Cost after iteration %i: %f\" %(i, cost))\n",
    "            \n",
    "        if cost < 250:\n",
    "            print(\"Neural network has been trained after %i iterations \\n\" %i)\n",
    "            break;\n",
    "            \n",
    "    print(\"Trained weight matrix \\n\" + str(W) + \"\\n\")\n",
    "    print(\"Trained bias vector \\n\" + str(b) + \"\\n\")\n",
    "    \n",
    "    return W,b"
   ]
  },
  {
   "cell_type": "code",
   "execution_count": 230,
   "id": "63c98473-0bbf-4031-82a8-ef6001b8a442",
   "metadata": {},
   "outputs": [
    {
     "name": "stdout",
     "output_type": "stream",
     "text": [
      "Initial weight matrix \n",
      "[[ 0.00216103 -0.00231899]\n",
      " [ 0.00636981 -0.01200311]\n",
      " [ 0.01850481 -0.00955236]\n",
      " [-0.01803759 -0.00036754]\n",
      " [-0.01512319 -0.0073498 ]]\n",
      "\n",
      "Initial bias vector \n",
      "[[0.]\n",
      " [0.]\n",
      " [0.]\n",
      " [0.]\n",
      " [0.]]\n",
      "\n",
      "Cost after iteration 0: 1828.000000\n",
      "Neural network has been trained after 56 iterations \n",
      "\n",
      "Trained weight matrix \n",
      "[[ 0.00909926 -0.01945463]\n",
      " [ 0.02244929  0.00396603]\n",
      " [ 0.00456626  0.02073432]\n",
      " [-0.01879477  0.01306927]\n",
      " [-0.01560742 -0.01455421]]\n",
      "\n",
      "Trained bias vector \n",
      "[[-0.14708]\n",
      " [-0.14712]\n",
      " [-0.11224]\n",
      " [-0.11468]\n",
      " [-0.1332 ]]\n",
      "\n"
     ]
    }
   ],
   "source": [
    "W,b = nn_model(X, Y, learning_rate=0.01, num_iterations=1000, print_cost=True)"
   ]
  },
  {
   "cell_type": "code",
   "execution_count": 232,
   "id": "99bfdd88-73cc-47ff-bdeb-44ff521465e2",
   "metadata": {},
   "outputs": [
    {
     "name": "stdout",
     "output_type": "stream",
     "text": [
      "[-1. -1.  1. -1. -1.]\n",
      "[-1. -1.  1. -1. -1.]\n"
     ]
    }
   ],
   "source": [
    "A = forward_propagation(X, W, b)\n",
    "print(A[:,220])\n",
    "print(Y[:,220])"
   ]
  },
  {
   "cell_type": "markdown",
   "id": "2c4e142e-2559-4c03-9d1a-acba9395f5af",
   "metadata": {},
   "source": [
    "## Klasifikace rastru"
   ]
  },
  {
   "cell_type": "code",
   "execution_count": 233,
   "id": "97ce9382-acec-4009-92e6-3cf83c911eb9",
   "metadata": {},
   "outputs": [],
   "source": [
    "def createraster(X, pointsinrow):\n",
    "    boundary = [np.amax(X[1, :]) + 0.2, np.amax(X[0, :]) + 0.2, np.amin(X[1, :]) - 0.2, np.amin(X[0, :]) - 0.2]  # clockwise\n",
    "    \n",
    "    print(np.amax(X[1, :]))\n",
    "    print(np.amax(X[0, :]))\n",
    "    print(np.amin(X[1, :]))\n",
    "    print(np.amin(X[0, :]))\n",
    "    \n",
    "    top, right, bottom, left = boundary\n",
    "    columnpoints = top - bottom\n",
    "    raster = np.linspace([left, top], [right, top], pointsinrow)\n",
    "    top -= columnpoints / pointsinrow\n",
    "\n",
    "    while top >= bottom:\n",
    "        raster_row = np.linspace([left, top], [right, top], pointsinrow)\n",
    "        raster = np.concatenate((raster, raster_row), axis=0)\n",
    "        top -= columnpoints / pointsinrow\n",
    "\n",
    "    plt.show()\n",
    "\n",
    "    return raster"
   ]
  },
  {
   "cell_type": "code",
   "execution_count": 234,
   "id": "8f109a96-208b-4839-b55e-cff3eb36d70f",
   "metadata": {},
   "outputs": [
    {
     "name": "stdout",
     "output_type": "stream",
     "text": [
      "12.409329\n",
      "13.435873\n",
      "-14.29898\n",
      "-11.071743\n"
     ]
    }
   ],
   "source": [
    "pointsinrow = 200  # points in 1 row\n",
    "raster = createraster(X, pointsinrow)"
   ]
  },
  {
   "cell_type": "code",
   "execution_count": 235,
   "id": "e3afb50d-229d-4c25-91e7-bf3de794e8c7",
   "metadata": {},
   "outputs": [],
   "source": [
    "raster_classified = forward_propagation(raster.T, W, b)"
   ]
  },
  {
   "cell_type": "code",
   "execution_count": 236,
   "id": "c91cebfa-1bc6-49e4-a0c8-ddce0ca2813e",
   "metadata": {},
   "outputs": [],
   "source": [
    "raster_classes = []\n",
    "points_with_class = []\n",
    "points_without_class = []\n",
    "for i in range(raster_classified.shape[1]):\n",
    "    \n",
    "    column = raster_classified[:,i]\n",
    "    column_sum = np.sum(column)\n",
    "    \n",
    "    if column_sum == -3:\n",
    "        raster_classes.append(np.squeeze(np.where(column == 1)))\n",
    "        points_with_class.append(raster[i])"
   ]
  },
  {
   "cell_type": "markdown",
   "id": "0e046dd2-38b7-436d-a189-ca1f63ed1352",
   "metadata": {},
   "source": [
    "## Vykresleni oklasifikovaneho rastru"
   ]
  },
  {
   "cell_type": "code",
   "execution_count": 237,
   "id": "5f823799-c224-4a08-9074-e4e3552e3593",
   "metadata": {},
   "outputs": [],
   "source": [
    "def plotPoints2(X, classes, Y, classes2):\n",
    "    X = np.array(X)\n",
    "    Y = np.array(Y)\n",
    "    classes = np.array(classes)\n",
    "    classes2 = np.array(classes2)\n",
    "    \n",
    "    plt.figure(figsize=(10, 7))\n",
    "    plt.scatter(Y[:, 0], Y[:, 1], s=10, c=classes2)\n",
    "    plt.scatter(X[:, 0], X[:, 1], s=10, c=classes) # nebo sem dat 'salmon'\n",
    "    plt.title(\"Zobrazeni dat\", fontsize=18)\n",
    "    ax = plt.gca()\n",
    "    ax.set_facecolor('white')\n",
    "    plt.show()"
   ]
  },
  {
   "cell_type": "code",
   "execution_count": 238,
   "id": "fbc9fe49-0130-4e9c-972d-9c73a550536c",
   "metadata": {},
   "outputs": [
    {
     "data": {
      "image/png": "[encoded data removed]",
      "text/plain": [
       "<Figure size 720x504 with 1 Axes>"
      ]
     },
     "metadata": {
      "needs_background": "light"
     },
     "output_type": "display_data"
    }
   ],
   "source": [
    "#plotPoints(points_with_class, raster_classes)\n",
    "#plotPoints(X.T, classes)\n",
    "plotPoints2(X.T, classes, points_with_class, raster_classes)"
   ]
  },
  {
   "cell_type": "code",
   "execution_count": null,
   "id": "f6e9a916-7dc9-47fd-af16-09c89f2a993f",
   "metadata": {},
   "outputs": [],
   "source": []
  },
  {
   "cell_type": "code",
   "execution_count": null,
   "id": "6102a6c3-1c50-4418-ba68-bdaea91a0485",
   "metadata": {},
   "outputs": [],
   "source": []
  },
  {
   "cell_type": "code",
   "execution_count": null,
   "id": "9d698050-b40f-4aaf-82db-63702e37febd",
   "metadata": {},
   "outputs": [],
   "source": []
  }
 ],
 "metadata": {
  "kernelspec": {
   "display_name": "Python 3 (ipykernel)",
   "language": "python",
   "name": "python3"
  },
  "language_info": {
   "codemirror_mode": {
    "name": "ipython",
    "version": 3
   },
   "file_extension": ".py",
   "mimetype": "text/x-python",
   "name": "python",
   "nbconvert_exporter": "python",
   "pygments_lexer": "ipython3",
   "version": "3.9.5"
  }
 },
 "nbformat": 4,
 "nbformat_minor": 5
}
