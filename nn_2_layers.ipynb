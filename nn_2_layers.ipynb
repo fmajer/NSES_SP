{
 "cells": [
  {
   "cell_type": "code",
   "execution_count": 1,
   "id": "220a8db9-5315-45a3-8d17-7374c49bbf37",
   "metadata": {},
   "outputs": [],
   "source": [
    "import numpy as np\n",
    "import matplotlib.pyplot as plt"
   ]
  },
  {
   "cell_type": "markdown",
   "id": "c6bcce25-6903-44e9-a298-22af00eebbac",
   "metadata": {
    "tags": []
   },
   "source": [
    "## Loading Dataset"
   ]
  },
  {
   "cell_type": "code",
   "execution_count": 484,
   "id": "651ad7c1-f9af-458a-8bde-7ab6d291b78d",
   "metadata": {},
   "outputs": [],
   "source": [
    "def load_data():\n",
    "    \"\"\"\n",
    "    Returns:\n",
    "    X - training data with dimensions (n_of_features, n_of_examples)\n",
    "    Y - labels (1 on the class index, -1 elsewhere) with dimensions (n_of_features, n_of_examples)\n",
    "    \"\"\"\n",
    "    x1 = []\n",
    "    x2 = []\n",
    "    classes = []\n",
    "    with open('tren_data2_06.txt') as f:\n",
    "        for line in f:\n",
    "            line = line.split()\n",
    "            \n",
    "            x1.append(float(line[0]))\n",
    "            x2.append(float(line[1]))\n",
    "            classes.append(int(float(line[2])))\n",
    "    \n",
    "    X = np.array([[x1, x2] for x1, x2 in zip(x1, x2)])\n",
    "    \n",
    "    classes = np.array(classes)\n",
    "    \"\"\"\n",
    "    Y = np.zeros(shape=(classes.shape[0], classes.max()))\n",
    "    Y[np.arange(classes.shape[0]), classes-1] = 1\n",
    "    \"\"\"\n",
    "    Y = np.ones(shape=(classes.shape[0], classes.max()))\n",
    "    Y[np.arange(classes.shape[0]), classes-1] = -1\n",
    "    Y = -Y\n",
    "\n",
    "    return X.T, Y.T, classes"
   ]
  },
  {
   "cell_type": "code",
   "execution_count": 485,
   "id": "f6b58d24-cf86-4c58-b077-70d9506335db",
   "metadata": {},
   "outputs": [
    {
     "name": "stdout",
     "output_type": "stream",
     "text": [
      "[ 7.6919123 -6.8810342]\n",
      "[ 1. -1. -1. -1. -1.]\n"
     ]
    }
   ],
   "source": [
    "X, Y, classes = load_data()\n",
    "\n",
    "print(X[:,0])\n",
    "print(Y[:,0])\n",
    "# print(classes)"
   ]
  },
  {
   "cell_type": "code",
   "execution_count": 440,
   "id": "00518a73-ba39-4de8-ac4e-cacd50545174",
   "metadata": {},
   "outputs": [],
   "source": [
    "def plotPoints(X, classes):\n",
    "    plt.figure(figsize=(10, 7))\n",
    "    X = np.array(X)\n",
    "    plt.scatter(X[:, 0], X[:, 1], s=10, c=classes)\n",
    "    plt.title(\"Zobrazení dat\", fontsize=18)\n",
    "    ax = plt.gca()\n",
    "    ax.set_facecolor('white')\n",
    "    plt.savefig('obr/data1.png') # NUTNO ZMENIT PRO DANA DATA\n",
    "    plt.show()"
   ]
  },
  {
   "cell_type": "code",
   "execution_count": 441,
   "id": "00d97594-ad8b-430e-9e9a-f4a88e85a0ef",
   "metadata": {},
   "outputs": [
    {
     "data": {
      "image/png": "[encoded data removed]",
      "text/plain": [
       "<Figure size 720x504 with 1 Axes>"
      ]
     },
     "metadata": {
      "needs_background": "light"
     },
     "output_type": "display_data"
    }
   ],
   "source": [
    "plotPoints(X.T, classes)"
   ]
  },
  {
   "cell_type": "markdown",
   "id": "a0c9e579-a1fb-4f48-8e0d-103c7a124b81",
   "metadata": {
    "jp-MarkdownHeadingCollapsed": true,
    "tags": []
   },
   "source": [
    "## Building blocks"
   ]
  },
  {
   "cell_type": "markdown",
   "id": "48363631-3957-4409-99b5-cf2832975d9a",
   "metadata": {
    "tags": []
   },
   "source": [
    "### Initialization"
   ]
  },
  {
   "cell_type": "code",
   "execution_count": 443,
   "id": "f3d4fc3c-ecf8-4dce-9746-e5238f153ffb",
   "metadata": {},
   "outputs": [],
   "source": [
    "def initialize_parameters(n_x, n_h, n_y):\n",
    "    \"\"\"\n",
    "    Argument:\n",
    "    n_x -- size of the input layer\n",
    "    n_h -- size of the hidden layer\n",
    "    n_y -- size of the output layer\n",
    "    \n",
    "    Returns:\n",
    "    params -- python dictionary containing your parameters:\n",
    "                    W1 -- weight matrix of shape (n_h, n_x)\n",
    "                    b1 -- bias vector of shape (n_h, 1)\n",
    "                    W2 -- weight matrix of shape (n_y, n_h)\n",
    "                    b2 -- bias vector of shape (n_y, 1)\n",
    "    \"\"\"\n",
    "    \n",
    "    W1 = np.random.randn(n_h, n_x) * 0.01\n",
    "    b1 = np.zeros((n_h,1))\n",
    "    W2 = np.random.randn(n_y, n_h) * 0.01\n",
    "    b2 = np.zeros((n_y,1))\n",
    "    \n",
    "    parameters = {\"W1\": W1,\n",
    "                  \"b1\": b1,\n",
    "                  \"W2\": W2,\n",
    "                  \"b2\": b2}\n",
    "    \n",
    "    return parameters"
   ]
  },
  {
   "cell_type": "code",
   "execution_count": 444,
   "id": "a1c89030-7e75-4fce-a69a-8c477adfb3f2",
   "metadata": {},
   "outputs": [
    {
     "name": "stdout",
     "output_type": "stream",
     "text": [
      "W1.shape = (5, 2)\n",
      "b1.shape = (5, 1)\n",
      "W2.shape = (5, 5)\n",
      "b2.shape = (5, 1)\n"
     ]
    }
   ],
   "source": [
    "# parametry site\n",
    "parameters = initialize_parameters(2, 5, 5)\n",
    "#print(\"W1 = \" + str(parameters[\"W1\"]))\n",
    "#print(\"b1 = \" + str(parameters[\"b1\"]))\n",
    "#print(\"W2 = \" + str(parameters[\"W2\"]))\n",
    "#print(\"b2 = \" + str(parameters[\"b2\"]))\n",
    "\n",
    "print(\"W1.shape = \" + str(parameters[\"W1\"].shape))\n",
    "print(\"b1.shape = \" + str(parameters[\"b1\"].shape))\n",
    "print(\"W2.shape = \" + str(parameters[\"W2\"].shape))\n",
    "print(\"b2.shape = \" + str(parameters[\"b2\"].shape))"
   ]
  },
  {
   "cell_type": "markdown",
   "id": "9093908f-25e4-4e43-ba88-f026a555a484",
   "metadata": {},
   "source": [
    "### Forward Propagation"
   ]
  },
  {
   "cell_type": "code",
   "execution_count": 445,
   "id": "e7e76ee5-7132-4f51-9199-96fd15ab172e",
   "metadata": {},
   "outputs": [],
   "source": [
    "def tanh(x, slope):\n",
    "    # POZN. - numpy ma vlastni tanh\n",
    "    t = 2 / (1+np.exp(-slope*x)) - 1\n",
    "    return t"
   ]
  },
  {
   "cell_type": "code",
   "execution_count": 446,
   "id": "40721c22-fe99-47cd-a9bc-81191dc044fa",
   "metadata": {
    "scrolled": true,
    "tags": []
   },
   "outputs": [],
   "source": [
    "def forward_propagation(X, parameters, slope):\n",
    "    \"\"\"\n",
    "    Argument:\n",
    "    X - input data of size (n_x, m)\n",
    "    parameters - python dictionary containing parameters\n",
    "    slopes - list of slope values\n",
    "    \n",
    "    Returns:\n",
    "    A2 - The output of neural network\n",
    "    cache - dictionary containing \"Z1\", \"A1\", \"Z2\", \"A2\"\n",
    "    \"\"\"\n",
    "    \n",
    "    W1 = parameters[\"W1\"]\n",
    "    b1 = parameters[\"b1\"]\n",
    "    W2 = parameters[\"W2\"]\n",
    "    b2 = parameters[\"b2\"]\n",
    "    \n",
    "    Z1 = np.dot(W1, X) + b1\n",
    "    A1 = tanh(Z1, slope[0])\n",
    "    Z2 = np.dot(W2, A1) + b2\n",
    "    A2 = tanh(Z2, slope[1])\n",
    "    \n",
    "    cache = {\"Z1\": Z1,\n",
    "             \"A1\": A1,\n",
    "             \"Z2\": Z2,\n",
    "             \"A2\": A2}\n",
    "    \n",
    "    return A2, cache"
   ]
  },
  {
   "cell_type": "code",
   "execution_count": 447,
   "id": "551ae4df-b569-4fcc-b3ea-b06c6f383db5",
   "metadata": {},
   "outputs": [],
   "source": [
    "slope = [1, 1]\n",
    "A2, cache = forward_propagation(X, parameters, slope)"
   ]
  },
  {
   "cell_type": "code",
   "execution_count": 448,
   "id": "a6496ed4-f8fd-4f72-a50a-370d7e536ce4",
   "metadata": {},
   "outputs": [
    {
     "name": "stdout",
     "output_type": "stream",
     "text": [
      "(5, 500)\n",
      "[ 1.66050083e-04 -4.39080125e-05 -1.41872734e-04  5.83206734e-04\n",
      " -4.55040021e-05]\n"
     ]
    }
   ],
   "source": [
    "print(A2.shape)\n",
    "print(A2[:,0])"
   ]
  },
  {
   "cell_type": "markdown",
   "id": "ea1e2a45-8113-4693-9398-2bb6d2375f36",
   "metadata": {},
   "source": [
    "### Compute Cost"
   ]
  },
  {
   "cell_type": "code",
   "execution_count": 449,
   "id": "94686949-fc82-4cd0-881d-08b1b9c4b294",
   "metadata": {},
   "outputs": [],
   "source": [
    "def compute_cost(A, Y):\n",
    "    \"\"\"\n",
    "    Argument:\n",
    "    A - output of neural network\n",
    "    Y - correct label\n",
    "    \n",
    "    Returns:\n",
    "    E - error across all training examples\n",
    "    \"\"\"\n",
    "    \n",
    "    cost_vec = np.zeros((Y.shape[1],1))\n",
    "    \n",
    "    for i in range(Y.shape[1]):\n",
    "        cost_vec[i,0] = np.dot((Y-A)[:,i], (Y-A)[:,i].T)\n",
    "    \n",
    "    #print(cost_vec.shape)\n",
    "    summed_cost = np.sum(cost_vec, axis=0)\n",
    "    #print(summed_cost)\n",
    "    \n",
    "    E = 1/2 * summed_cost[0]\n",
    "    \n",
    "    return E"
   ]
  },
  {
   "cell_type": "code",
   "execution_count": 450,
   "id": "d00529e1-1f83-420e-8d36-9c2ecd51aa11",
   "metadata": {},
   "outputs": [
    {
     "name": "stdout",
     "output_type": "stream",
     "text": [
      "1249.8579532722617\n"
     ]
    }
   ],
   "source": [
    "E = compute_cost(A2, Y)\n",
    "print(E)"
   ]
  },
  {
   "cell_type": "markdown",
   "id": "1e2417bc-5eb6-4ef1-a76d-c2afa02ce608",
   "metadata": {},
   "source": [
    "### Backward propagation"
   ]
  },
  {
   "cell_type": "code",
   "execution_count": 451,
   "id": "07bee45c-75b6-44e7-b573-6ad112e52bbd",
   "metadata": {},
   "outputs": [],
   "source": [
    "def backward_propagation(X, Y, parameters, cache, slope):\n",
    "    m = X.shape[1]\n",
    "    \n",
    "    W1 = parameters[\"W1\"]\n",
    "    b1 = parameters[\"b1\"]\n",
    "    W2 = parameters[\"W2\"]\n",
    "    b2 = parameters[\"b2\"]\n",
    "    \n",
    "    A1 = cache[\"A1\"]\n",
    "    A2 = cache[\"A2\"]\n",
    "    Z1 = cache[\"Z1\"]\n",
    "    Z2 = cache[\"Z2\"]\n",
    "    \n",
    "    dZ2 = (Y - A2) * (slope[1]/2) * (1 - np.power(A2,2))\n",
    "    dW2 = (1/m) * np.dot(dZ2,A1.T)\n",
    "    db2 = (1/m) * (np.sum(dZ2,axis=1,keepdims=True))\n",
    "    \n",
    "    dZ1 = np.dot(W2.T,dZ2) * (slope[0]/2) * (1 - np.power(A1,2)) # no ale nenasobim to tim np.sum((Y - A2),axis=0)\n",
    "    dW1 = (1/m) * np.dot(dZ1,X.T)\n",
    "    db1 = (1/m) *(np.sum(dZ1, axis=1, keepdims=True))\n",
    "    \n",
    "    grads = {\"dW1\": dW1,\n",
    "             \"db1\": db1,\n",
    "             \"dW2\": dW2,\n",
    "             \"db2\": db2,}\n",
    "    \n",
    "    return grads"
   ]
  },
  {
   "cell_type": "code",
   "execution_count": 452,
   "id": "b33d2fb3-3be8-4cf4-ba4b-40e244404e3d",
   "metadata": {},
   "outputs": [
    {
     "name": "stdout",
     "output_type": "stream",
     "text": [
      "[[ 3.32174930e-04  2.09415323e-02  1.52356298e-02 -1.39543286e-03\n",
      "  -4.28473202e-03]\n",
      " [ 9.62662060e-05  1.32331806e-02  1.45539196e-02 -7.98729461e-03\n",
      "   9.05212660e-03]\n",
      " [-3.02519521e-03 -6.30161324e-03 -3.78701167e-03  9.18951734e-03\n",
      "  -1.03974339e-02]\n",
      " [ 2.92918931e-03  2.35140271e-03 -3.40825902e-03 -1.53816750e-02\n",
      "   3.52463420e-03]\n",
      " [-1.76331036e-03  2.31410137e-02 -2.27614746e-03  5.20441539e-03\n",
      "   1.43648383e-02]]\n",
      "[[-0.02506796 -0.01024571  0.03090771  0.01071975  0.01287737]\n",
      " [-0.02717761 -0.01553614  0.03401018  0.02167605  0.01931355]\n",
      " [-0.01846593 -0.01395564  0.023487    0.0224464   0.01723028]\n",
      " [-0.0109953  -0.00764174  0.01393685  0.01185623  0.00945328]\n",
      " [-0.01501937 -0.00536117  0.01844175  0.00467253  0.00678044]]\n"
     ]
    }
   ],
   "source": [
    "print(parameters[\"W2\"])\n",
    "grads = backward_propagation(X, Y, parameters, cache, slope)\n",
    "print(grads[\"dW2\"])"
   ]
  },
  {
   "cell_type": "markdown",
   "id": "a8849ec9-1fc0-41fb-aa43-5bf9bb4bae30",
   "metadata": {},
   "source": [
    "### Update parameters"
   ]
  },
  {
   "cell_type": "code",
   "execution_count": 453,
   "id": "90758795-5f9e-495c-b2c8-801b56bc87d3",
   "metadata": {},
   "outputs": [],
   "source": [
    "def update_parameters(parameters, grads, learning_rate):\n",
    "    \n",
    "    W1 = parameters[\"W1\"]\n",
    "    b1 = parameters[\"b1\"]\n",
    "    W2 = parameters[\"W2\"]\n",
    "    b2 = parameters[\"b2\"]\n",
    "    \n",
    "    dW1 = grads[\"dW1\"]\n",
    "    db1 = grads[\"db1\"]\n",
    "    dW2 = grads[\"dW2\"]\n",
    "    db2 = grads[\"db2\"]\n",
    "    \n",
    "    W1 = W1 + learning_rate * dW1\n",
    "    b1 = b1 + learning_rate * db1\n",
    "    W2 = W2 + learning_rate * dW2\n",
    "    b2 = b2 + learning_rate * db2\n",
    "    \n",
    "    parameters = {\"W1\": W1,\n",
    "                  \"b1\": b1,\n",
    "                  \"W2\": W2,\n",
    "                  \"b2\": b2}\n",
    "    \n",
    "    return parameters"
   ]
  },
  {
   "cell_type": "code",
   "execution_count": 463,
   "id": "dad94152-336e-4304-8ed5-fe14202f6e1b",
   "metadata": {},
   "outputs": [
    {
     "name": "stdout",
     "output_type": "stream",
     "text": [
      "[[-7.18821313e-03  1.78678180e-02  2.45079428e-02  1.82049293e-03\n",
      "  -4.21521143e-04]\n",
      " [-8.05701776e-03  8.57233963e-03  2.47569744e-02 -1.48447942e-03\n",
      "   1.48461914e-02]\n",
      " [-8.56497378e-03 -1.04883058e-02  3.25908911e-03  1.59234377e-02\n",
      "  -5.22834840e-03]\n",
      " [-3.69399486e-04  5.88797716e-05  7.72797174e-04 -1.18248065e-02\n",
      "   6.36061695e-03]\n",
      " [-6.26912237e-03  2.15326627e-02  3.25637827e-03  6.60617550e-03\n",
      "   1.63989709e-02]]\n",
      "\n",
      "Output of neural network: \n",
      "[-0.04640739 -0.04659436 -0.04539234 -0.04492056 -0.04608915]\n",
      "\n",
      "[[-0.00969501  0.01684325  0.02759871  0.00289247  0.00086622]\n",
      " [-0.01077478  0.00701873  0.02815799  0.00068313  0.01677755]\n",
      " [-0.01041157 -0.01188387  0.00560779  0.01816808 -0.00350532]\n",
      " [-0.00146893 -0.00070529  0.00216648 -0.01063918  0.00730594]\n",
      " [-0.00777106  0.02099655  0.00510055  0.00707343  0.01707702]]\n"
     ]
    }
   ],
   "source": [
    "learning_rate = 0.1\n",
    "slope = [1, 1]\n",
    "print(parameters[\"W2\"])\n",
    "\n",
    "A2, cache = forward_propagation(X, parameters, slope)\n",
    "print(\"\\n\" + \"Output of neural network: \\n\" + str(A2[:,0]) + \"\\n\")\n",
    "\n",
    "parameters = update_parameters(parameters, grads, learning_rate)\n",
    "print(parameters[\"W2\"])"
   ]
  },
  {
   "cell_type": "code",
   "execution_count": 464,
   "id": "efb08091-a993-4e0f-b4ac-ed9e3db7eb43",
   "metadata": {},
   "outputs": [],
   "source": [
    "A2, cache = forward_propagation(X, parameters, slope)"
   ]
  },
  {
   "cell_type": "code",
   "execution_count": 465,
   "id": "e75a88b3-04bb-47e3-88d6-1c0fa9e87f21",
   "metadata": {},
   "outputs": [
    {
     "name": "stdout",
     "output_type": "stream",
     "text": [
      "Output of neural network after update: \n",
      "[-0.06193377 -0.06209202 -0.06043629 -0.06005577 -0.06142962]\n"
     ]
    }
   ],
   "source": [
    "print(\"Output of neural network after update: \\n\" + str(A2[:,0]))"
   ]
  },
  {
   "cell_type": "markdown",
   "id": "a282a8a7-f0a8-4bb1-9061-a82a3399ced2",
   "metadata": {
    "tags": []
   },
   "source": [
    "## Model"
   ]
  },
  {
   "cell_type": "code",
   "execution_count": 539,
   "id": "189a6827-0f1e-4f96-bd2f-79c1d60df203",
   "metadata": {},
   "outputs": [],
   "source": [
    "def nn_model(X, Y, slope, learning_rate, num_iterations, print_cost):\n",
    "    \n",
    "    cost_list = []\n",
    "    lowest_accept_error = 30\n",
    "    \n",
    "    n_x = X.shape[0]\n",
    "    n_h = 10\n",
    "    n_y = Y.shape[0]\n",
    "    \n",
    "    print(\"The size of the input layer is: n_x = \" + str(n_x))\n",
    "    print(\"The size of the hidden layer is: n_h = \" + str(n_h))\n",
    "    print(\"The size of the output layer is: n_y = \" + str(n_y) + \"\\n\")\n",
    "    \n",
    "    parameters = initialize_parameters(n_x, n_h, n_y)\n",
    "    \n",
    "    W1 = parameters[\"W1\"]\n",
    "    b1 = parameters[\"b1\"]\n",
    "    W2 = parameters[\"W2\"]\n",
    "    b2 = parameters[\"b2\"]\n",
    "    \n",
    "    print(\"First initial weight matrix \\n\" + str(W1) + \"\\n\")\n",
    "    print(\"First initial bias vector \\n\" + str(b1) + \"\\n\")\n",
    "    print(\"Second initial weight matrix \\n\" + str(W2) + \"\\n\")\n",
    "    print(\"Second initial bias vector \\n\" + str(b2) + \"\\n\")\n",
    "    \n",
    "    trained = False\n",
    "    \n",
    "    for i in range(0, num_iterations):\n",
    "        A2, cache = forward_propagation(X, parameters, slope)\n",
    "        cost = compute_cost(A2, Y)\n",
    "        grads = backward_propagation(X, Y, parameters, cache, slope)\n",
    "        parameters = update_parameters(parameters, grads, learning_rate)\n",
    "        \n",
    "        if i % 50 == 0: # NUTNO ZMENIT PRO DANA DATA\n",
    "           cost_list.append(cost)\n",
    "        \n",
    "        if print_cost and i % 100 == 0:\n",
    "            print (\"Cost after iteration %i: %f\" %(i, cost))\n",
    "            \n",
    "        if cost <= lowest_accept_error:\n",
    "            cost_list.append(cost)\n",
    "            \n",
    "            print(\"\\n\" + \"Neural network has been trained after %i iterations \\n\" %i)\n",
    "            print(\"Final error is %f \\n\" %cost)\n",
    "            trained = True\n",
    "            break;\n",
    "            \n",
    "    if (not trained):\n",
    "        print(\"\\n\" + \"Neural network didnt reach desired error value %i\" %lowest_accept_error)\n",
    "        print(\"Final achieved error is %f \\n\" %cost)\n",
    "            \n",
    "    W1 = parameters[\"W1\"]\n",
    "    b1 = parameters[\"b1\"]\n",
    "    W2 = parameters[\"W2\"]\n",
    "    b2 = parameters[\"b2\"]\n",
    "            \n",
    "    print(\"First final weight matrix \\n\" + str(W1) + \"\\n\")\n",
    "    print(\"First final bias vector \\n\" + str(b1) + \"\\n\")\n",
    "    print(\"Second final weight matrix \\n\" + str(W2) + \"\\n\")\n",
    "    print(\"Second final bias vector \\n\" + str(b2) + \"\\n\")\n",
    "    \n",
    "    return parameters, cost_list"
   ]
  },
  {
   "cell_type": "code",
   "execution_count": 540,
   "id": "63c98473-0bbf-4031-82a8-ef6001b8a442",
   "metadata": {},
   "outputs": [
    {
     "name": "stdout",
     "output_type": "stream",
     "text": [
      "The size of the input layer is: n_x = 2\n",
      "The size of the hidden layer is: n_h = 10\n",
      "The size of the output layer is: n_y = 5\n",
      "\n",
      "First initial weight matrix \n",
      "[[ 0.01026643  0.0088836 ]\n",
      " [-0.00078867 -0.00917819]\n",
      " [ 0.01115675 -0.00666682]\n",
      " [ 0.00486351  0.02675077]\n",
      " [-0.0053082  -0.00471453]\n",
      " [-0.00472148  0.00622596]\n",
      " [-0.00640173 -0.01103243]\n",
      " [-0.02059213  0.01434056]\n",
      " [ 0.00512347  0.00028852]\n",
      " [-0.00284391 -0.00701028]]\n",
      "\n",
      "First initial bias vector \n",
      "[[0.]\n",
      " [0.]\n",
      " [0.]\n",
      " [0.]\n",
      " [0.]\n",
      " [0.]\n",
      " [0.]\n",
      " [0.]\n",
      " [0.]\n",
      " [0.]]\n",
      "\n",
      "Second initial weight matrix \n",
      "[[-0.00022643  0.01175444 -0.00021877 -0.00691238 -0.00453118  0.00744696\n",
      "   0.02010544 -0.00505749 -0.0095176  -0.00213335]\n",
      " [-0.00261614 -0.00612276 -0.00781063  0.01133409 -0.0041035   0.01246322\n",
      "  -0.00398552  0.0044108  -0.00696477  0.00956079]\n",
      " [ 0.00486458 -0.00712559 -0.00688421  0.00134266  0.00634157 -0.00059088\n",
      "   0.00880974 -0.00400229  0.00137438 -0.00845649]\n",
      " [ 0.00265986  0.00537668 -0.00421722  0.00451911  0.0138177   0.01585083\n",
      "   0.00140459  0.01387099 -0.01323199  0.00064168]\n",
      " [ 0.01637503 -0.0018499  -0.01175584 -0.00150695  0.00022646  0.0118924\n",
      "   0.00415446  0.01327361 -0.00061857 -0.02288819]]\n",
      "\n",
      "Second initial bias vector \n",
      "[[0.]\n",
      " [0.]\n",
      " [0.]\n",
      " [0.]\n",
      " [0.]]\n",
      "\n",
      "Cost after iteration 0: 1249.580056\n",
      "Cost after iteration 100: 43.363450\n",
      "Cost after iteration 200: 32.197683\n",
      "\n",
      "Neural network has been trained after 262 iterations \n",
      "\n",
      "Final error is 29.988934 \n",
      "\n",
      "First final weight matrix \n",
      "[[-0.41791449  1.2566533 ]\n",
      " [-0.4503831  -0.89129975]\n",
      " [ 0.48453799 -1.1957258 ]\n",
      " [ 0.55617196  1.00449584]\n",
      " [-1.04856352  0.2145351 ]\n",
      " [-0.65953654  0.94379932]\n",
      " [-0.80920401 -0.84063986]\n",
      " [-1.15095484  0.45272101]\n",
      " [ 1.45311852  0.46670011]\n",
      " [ 1.46602084  0.29233043]]\n",
      "\n",
      "First final bias vector \n",
      "[[-0.94021178]\n",
      " [-0.58598664]\n",
      " [ 1.0410055 ]\n",
      " [ 0.60919726]\n",
      " [-0.16255056]\n",
      " [-0.44778063]\n",
      " [ 0.82959351]\n",
      " [ 0.33107746]\n",
      " [ 0.19325398]\n",
      " [ 0.66707448]]\n",
      "\n",
      "Second final weight matrix \n",
      "[[ 0.30843629  1.16722608 -0.26943018 -1.39968539 -1.18080643  0.00903122\n",
      "   1.30582277 -1.46850633  0.33970096  0.85550019]\n",
      " [-0.83079972 -1.21095305  1.36101172  1.42715375 -0.02338006 -1.14762698\n",
      "  -1.35985558 -0.42607906 -0.22206087 -0.39502599]\n",
      " [ 0.89626041  0.27120549 -1.23181215 -0.20532984 -0.15531625  1.17798956\n",
      "  -0.82883839  0.33321177  1.37278387  1.30348523]\n",
      " [ 1.37208463 -0.37823851 -1.30840844  0.3702731   0.12678766  0.50287092\n",
      "   0.87176627 -0.25160094 -1.44955012 -1.36478308]\n",
      " [-1.56779521  0.34150646  1.21470308 -0.35428754  1.23308329 -0.46277035\n",
      "  -0.6294899   1.48023104 -0.21488473 -0.80926032]]\n",
      "\n",
      "Second final bias vector \n",
      "[[-3.12243249]\n",
      " [-3.13708987]\n",
      " [-3.30973387]\n",
      " [-3.26720998]\n",
      " [-3.19063853]]\n",
      "\n"
     ]
    }
   ],
   "source": [
    "slope = [1, 1] # sklon u tanh funkce\n",
    "\n",
    "parameters, cost_list = nn_model(X, Y, slope, learning_rate=1, num_iterations=1000, print_cost=True)\n",
    "\n",
    "#   DATA1\n",
    "#learning rate = 1\n",
    "#lowest_accept_error = 1\n",
    "#num_iterations = 1000, ale skonci to tak po 700,800\n",
    "#pro vykreslovani - i % 20 nebo 50\n",
    "\n",
    "#   DATA2\n",
    "#learning rate = 1\n",
    "#lowest_accept_error = 25 (ale stacilo by i 30)\n",
    "#num_iterations = 1000, ale skonci to tak po 700,800\n",
    "#pro vykreslovani - i % 50"
   ]
  },
  {
   "cell_type": "code",
   "execution_count": 541,
   "id": "99bfdd88-73cc-47ff-bdeb-44ff521465e2",
   "metadata": {},
   "outputs": [
    {
     "name": "stdout",
     "output_type": "stream",
     "text": [
      "[ 1. -1. -1. -1. -1.]\n",
      "[ 1. -1. -1. -1. -1.]\n"
     ]
    }
   ],
   "source": [
    "A2, cache = forward_propagation(X, parameters, slope)\n",
    "A2 = np.rint(A2) # round to nearest integer\n",
    "\n",
    "print(A2[:,0])\n",
    "print(Y[:,0])"
   ]
  },
  {
   "cell_type": "markdown",
   "id": "af3fce3a-8355-4403-a497-e59f5b7ab738",
   "metadata": {},
   "source": [
    "## Zavislost chyby na trenovacich cyklech"
   ]
  },
  {
   "cell_type": "code",
   "execution_count": 542,
   "id": "18f1d928-f80c-4123-b0cc-ce7e93289af8",
   "metadata": {},
   "outputs": [
    {
     "data": {
      "image/png": "[encoded data removed]",
      "text/plain": [
       "<Figure size 720x504 with 1 Axes>"
      ]
     },
     "metadata": {
      "needs_background": "light"
     },
     "output_type": "display_data"
    }
   ],
   "source": [
    "i = range(len(cost_list))\n",
    "i = [item * 50 for item in i] # CISLO MUSI SEDET S TIM, CO JE V MODELU\n",
    "\n",
    "# neberu kazdy error, jinak to osciluje hodne, graf je dost necitelny, neni dobre videt trend\n",
    "\n",
    "plt.figure(figsize=(10, 7))\n",
    "plt.plot(i, cost_list)\n",
    "plt.title(\"Zavislost chyby na trenovacich cyklech\", fontsize=18)\n",
    "ax = plt.gca()\n",
    "ax.set_facecolor('white')\n",
    "\n",
    "plt.savefig('obr/nn_2layer_error_data2') # NUTNO ZMENIT PRO DANA DATA\n",
    "plt.show()"
   ]
  },
  {
   "cell_type": "markdown",
   "id": "2c4e142e-2559-4c03-9d1a-acba9395f5af",
   "metadata": {
    "tags": []
   },
   "source": [
    "## Klasifikace rastru"
   ]
  },
  {
   "cell_type": "code",
   "execution_count": 543,
   "id": "97ce9382-acec-4009-92e6-3cf83c911eb9",
   "metadata": {},
   "outputs": [],
   "source": [
    "def createraster(X, pointsinrow):\n",
    "    boundary = [np.amax(X[1, :]) + 0.2, np.amax(X[0, :]) + 0.2, np.amin(X[1, :]) - 0.2, np.amin(X[0, :]) - 0.2]  # clockwise\n",
    "    \n",
    "    print(np.amax(X[1, :]))\n",
    "    print(np.amax(X[0, :]))\n",
    "    print(np.amin(X[1, :]))\n",
    "    print(np.amin(X[0, :]))\n",
    "    \n",
    "    top, right, bottom, left = boundary\n",
    "    columnpoints = top - bottom\n",
    "    raster = np.linspace([left, top], [right, top], pointsinrow)\n",
    "    top -= columnpoints / pointsinrow\n",
    "\n",
    "    while top >= bottom:\n",
    "        raster_row = np.linspace([left, top], [right, top], pointsinrow)\n",
    "        raster = np.concatenate((raster, raster_row), axis=0)\n",
    "        top -= columnpoints / pointsinrow\n",
    "\n",
    "    plt.show()\n",
    "\n",
    "    return raster"
   ]
  },
  {
   "cell_type": "code",
   "execution_count": 544,
   "id": "8f109a96-208b-4839-b55e-cff3eb36d70f",
   "metadata": {},
   "outputs": [
    {
     "name": "stdout",
     "output_type": "stream",
     "text": [
      "12.409329\n",
      "13.435873\n",
      "-14.29898\n",
      "-11.071743\n"
     ]
    }
   ],
   "source": [
    "pointsinrow = 200  # points in 1 row\n",
    "raster = createraster(X, pointsinrow)"
   ]
  },
  {
   "cell_type": "code",
   "execution_count": 545,
   "id": "e3afb50d-229d-4c25-91e7-bf3de794e8c7",
   "metadata": {},
   "outputs": [
    {
     "name": "stdout",
     "output_type": "stream",
     "text": [
      "[[-1. -1. -1.]\n",
      " [-1. -1. -1.]\n",
      " [-1. -1. -1.]\n",
      " [ 1.  1.  1.]\n",
      " [-1. -1. -1.]]\n"
     ]
    }
   ],
   "source": [
    "raster_classified, cache = forward_propagation(raster.T, parameters, slope)\n",
    "raster_classified = np.rint(raster_classified)\n",
    "print(raster_classified[:, 247:250])"
   ]
  },
  {
   "cell_type": "code",
   "execution_count": 546,
   "id": "c91cebfa-1bc6-49e4-a0c8-ddce0ca2813e",
   "metadata": {},
   "outputs": [],
   "source": [
    "raster_classes = []\n",
    "points_with_class = []\n",
    "points_without_class = []\n",
    "j = 0\n",
    "\n",
    "for i in range(raster_classified.shape[1]):\n",
    "    \n",
    "    column = raster_classified[:,i]\n",
    "    column_sum = np.sum(column)\n",
    "    \n",
    "    if column_sum == -3:\n",
    "        x = np.squeeze(np.where(column == 1))\n",
    "        \n",
    "        if x.size > 0:\n",
    "            raster_classes.append(x)\n",
    "            points_with_class.append(raster[i])\n",
    "        \n",
    "        \"\"\" DEBUG\n",
    "        j +=1\n",
    "        if j==247:\n",
    "            print(raster_classified[:,i])\n",
    "            print(np.squeeze(np.where(column == 1)))\n",
    "            print(raster_classes[-1])\n",
    "        \"\"\"\n",
    "        "
   ]
  },
  {
   "cell_type": "code",
   "execution_count": 547,
   "id": "28c80901-34d5-4682-ae43-41cd2047ebd5",
   "metadata": {},
   "outputs": [
    {
     "name": "stdout",
     "output_type": "stream",
     "text": [
      "[array(2), array(2), array(2)]\n"
     ]
    }
   ],
   "source": [
    "print(raster_classes[247:250])"
   ]
  },
  {
   "cell_type": "markdown",
   "id": "0e046dd2-38b7-436d-a189-ca1f63ed1352",
   "metadata": {
    "tags": []
   },
   "source": [
    "## Vykresleni oklasifikovaneho rastru"
   ]
  },
  {
   "cell_type": "code",
   "execution_count": 548,
   "id": "5f823799-c224-4a08-9074-e4e3552e3593",
   "metadata": {},
   "outputs": [],
   "source": [
    "def plotPoints2(X, classes, Y, classes2):\n",
    "    X = np.array(X)\n",
    "    Y = np.array(Y)\n",
    "    classes = np.array(classes)\n",
    "    classes2 = np.array(classes2)\n",
    "    \n",
    "    plt.figure(figsize=(10, 7))\n",
    "    plt.scatter(Y[:, 0], Y[:, 1], s=10, c=classes2)\n",
    "    plt.scatter(X[:, 0], X[:, 1], s=10, c='salmon') # classes nebo pr 'salmon'\n",
    "    plt.title(\"Klasifikace bodů vstupního prostoru\", fontsize=18)\n",
    "    ax = plt.gca()\n",
    "    ax.set_facecolor('white')\n",
    "    plt.savefig('obr/nn_2layer_data2')\n",
    "    plt.show()"
   ]
  },
  {
   "cell_type": "code",
   "execution_count": 549,
   "id": "fbc9fe49-0130-4e9c-972d-9c73a550536c",
   "metadata": {},
   "outputs": [
    {
     "data": {
      "image/png": "[encoded data removed]",
      "text/plain": [
       "<Figure size 720x504 with 1 Axes>"
      ]
     },
     "metadata": {
      "needs_background": "light"
     },
     "output_type": "display_data"
    }
   ],
   "source": [
    "#plotPoints(points_with_class, raster_classes)\n",
    "#plotPoints(X.T, classes)\n",
    "plotPoints2(X.T, classes, points_with_class, raster_classes)"
   ]
  },
  {
   "cell_type": "code",
   "execution_count": null,
   "id": "6102a6c3-1c50-4418-ba68-bdaea91a0485",
   "metadata": {},
   "outputs": [],
   "source": []
  }
 ],
 "metadata": {
  "kernelspec": {
   "display_name": "Python 3 (ipykernel)",
   "language": "python",
   "name": "python3"
  },
  "language_info": {
   "codemirror_mode": {
    "name": "ipython",
    "version": 3
   },
   "file_extension": ".py",
   "mimetype": "text/x-python",
   "name": "python",
   "nbconvert_exporter": "python",
   "pygments_lexer": "ipython3",
   "version": "3.9.5"
  }
 },
 "nbformat": 4,
 "nbformat_minor": 5
}
