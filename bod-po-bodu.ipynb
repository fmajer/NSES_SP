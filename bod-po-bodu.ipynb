{
 "cells": [
  {
   "cell_type": "code",
   "execution_count": 3,
   "id": "220a8db9-5315-45a3-8d17-7374c49bbf37",
   "metadata": {},
   "outputs": [],
   "source": [
    "import numpy as np\n",
    "import matplotlib.pyplot as plt"
   ]
  },
  {
   "cell_type": "markdown",
   "id": "c6bcce25-6903-44e9-a298-22af00eebbac",
   "metadata": {},
   "source": [
    "### Loading Dataset"
   ]
  },
  {
   "cell_type": "code",
   "execution_count": 248,
   "id": "651ad7c1-f9af-458a-8bde-7ab6d291b78d",
   "metadata": {},
   "outputs": [],
   "source": [
    "def load_data():\n",
    "    x1 = []\n",
    "    x2 = []\n",
    "    classes = []\n",
    "    line_counter = 0\n",
    "    with open('tren_data1_06.txt') as f:\n",
    "        for line in f:\n",
    "            line = line.split()\n",
    "            line_counter += 1\n",
    "            \n",
    "            x1.append(float(line[0]))\n",
    "            x2.append(float(line[1]))\n",
    "            classes.append(int(float(line[2])))\n",
    "    \n",
    "    X = np.array([[x1, x2] for x1, x2 in zip(x1, x2)])\n",
    "    \n",
    "    classes = np.array(classes)\n",
    "    Y = np.ones(shape=(classes.shape[0], classes.max()))\n",
    "    Y[np.arange(classes.shape[0]), classes-1] = -1\n",
    "    Y = -Y\n",
    "\n",
    "    return X.T, Y.T, classes"
   ]
  },
  {
   "cell_type": "code",
   "execution_count": 249,
   "id": "f6b58d24-cf86-4c58-b077-70d9506335db",
   "metadata": {},
   "outputs": [
    {
     "name": "stdout",
     "output_type": "stream",
     "text": [
      "[ 4.0468461 -7.4922288]\n",
      "[ 1. -1. -1. -1. -1.]\n"
     ]
    }
   ],
   "source": [
    "X, Y, classes = load_data()\n",
    "\n",
    "print(X[:,0])\n",
    "print(Y[:,0])"
   ]
  },
  {
   "cell_type": "code",
   "execution_count": 250,
   "id": "00518a73-ba39-4de8-ac4e-cacd50545174",
   "metadata": {},
   "outputs": [],
   "source": [
    "def plotPoints(X, classes):\n",
    "    plt.figure(figsize=(10, 7))\n",
    "    #X = np.array(X)\n",
    "    plt.scatter(X[:, 0], X[:, 1], s=10, c=classes)\n",
    "    plt.title(\"Zobrazeni dat\", fontsize=18)\n",
    "    plt.show()"
   ]
  },
  {
   "cell_type": "code",
   "execution_count": 251,
   "id": "00d97594-ad8b-430e-9e9a-f4a88e85a0ef",
   "metadata": {},
   "outputs": [
    {
     "data": {
      "image/png": "[encoded data removed]",
      "text/plain": [
       "<Figure size 720x504 with 1 Axes>"
      ]
     },
     "metadata": {
      "needs_background": "light"
     },
     "output_type": "display_data"
    }
   ],
   "source": [
    "plotPoints(X.T, classes)"
   ]
  },
  {
   "cell_type": "markdown",
   "id": "48363631-3957-4409-99b5-cf2832975d9a",
   "metadata": {},
   "source": [
    "### Initialization"
   ]
  },
  {
   "cell_type": "code",
   "execution_count": 278,
   "id": "f3d4fc3c-ecf8-4dce-9746-e5238f153ffb",
   "metadata": {},
   "outputs": [],
   "source": [
    "def initialize_parameters(n_x, n_y):\n",
    "    \"\"\"\n",
    "    Argument:\n",
    "    n_x - size of the input layer\n",
    "    n_y - size of the output layer\n",
    "    \n",
    "    Returns:\n",
    "    W - weight matrix of shape (n_y, n_x)\n",
    "    b - bias vector of shape(n_y- 1)\n",
    "    \"\"\"\n",
    "    \n",
    "    W = np.random.randn(n_y, n_x) * 0.01\n",
    "    b = np.zeros((n_y,1))\n",
    "    \n",
    "    return W, b"
   ]
  },
  {
   "cell_type": "code",
   "execution_count": 279,
   "id": "a1c89030-7e75-4fce-a69a-8c477adfb3f2",
   "metadata": {},
   "outputs": [
    {
     "name": "stdout",
     "output_type": "stream",
     "text": [
      "(5, 2)\n",
      "(5, 1)\n",
      "[[-0.00705414 -0.00474279]\n",
      " [-0.00408676 -0.0272891 ]\n",
      " [-0.00540773  0.00446482]\n",
      " [ 0.00024093  0.00349204]\n",
      " [ 0.01429236 -0.00453997]]\n",
      "[[0.]\n",
      " [0.]\n",
      " [0.]\n",
      " [0.]\n",
      " [0.]]\n"
     ]
    }
   ],
   "source": [
    "# parametry site\n",
    "W, b = initialize_parameters(2, 5)\n",
    "print(W.shape)\n",
    "print(b.shape)\n",
    "print(W)\n",
    "print(b)"
   ]
  },
  {
   "cell_type": "markdown",
   "id": "9093908f-25e4-4e43-ba88-f026a555a484",
   "metadata": {},
   "source": [
    "### Forward Propagation"
   ]
  },
  {
   "cell_type": "code",
   "execution_count": 290,
   "id": "40721c22-fe99-47cd-a9bc-81191dc044fa",
   "metadata": {},
   "outputs": [],
   "source": [
    "def forward_propagation(x, W, b):\n",
    "    \"\"\"\n",
    "    Argument:\n",
    "    x - input data\n",
    "    W - weights matrix\n",
    "    b - bias vector\n",
    "    \n",
    "    Returns:\n",
    "    a - The sigmoid output of the activation\n",
    "    cache - a python tuple containing \"A\", \"W\" and \"b\" ; stored for computing the backward pass efficiently\n",
    "    \"\"\"\n",
    "    \n",
    "    z = np.dot(W, x)\n",
    "    z = np.reshape(z, (5,1)) + b\n",
    "    \n",
    "    # print(z)\n",
    "    \n",
    "    a = np.sign(z)\n",
    "    \n",
    "    # cache = (A, W, b)\n",
    "    \n",
    "    return a"
   ]
  },
  {
   "cell_type": "code",
   "execution_count": 281,
   "id": "551ae4df-b569-4fcc-b3ea-b06c6f383db5",
   "metadata": {},
   "outputs": [
    {
     "name": "stdout",
     "output_type": "stream",
     "text": [
      "[[ 0.00698708]\n",
      " [ 0.18791766]\n",
      " [-0.05533567]\n",
      " [-0.02518818]\n",
      " [ 0.09185345]]\n"
     ]
    }
   ],
   "source": [
    "a = forward_propagation(X[:,0], W, b)"
   ]
  },
  {
   "cell_type": "code",
   "execution_count": 282,
   "id": "a6496ed4-f8fd-4f72-a50a-370d7e536ce4",
   "metadata": {},
   "outputs": [
    {
     "name": "stdout",
     "output_type": "stream",
     "text": [
      "[[ 1.]\n",
      " [ 1.]\n",
      " [-1.]\n",
      " [-1.]\n",
      " [ 1.]]\n",
      "[ 1. -1. -1. -1. -1.]\n"
     ]
    }
   ],
   "source": [
    "print(a)\n",
    "print(Y[:,0])"
   ]
  },
  {
   "cell_type": "markdown",
   "id": "ea1e2a45-8113-4693-9398-2bb6d2375f36",
   "metadata": {},
   "source": [
    "### Compute Cost"
   ]
  },
  {
   "cell_type": "code",
   "execution_count": 283,
   "id": "94686949-fc82-4cd0-881d-08b1b9c4b294",
   "metadata": {},
   "outputs": [],
   "source": [
    "def compute_cost(a, y, E):\n",
    "    \n",
    "    y = np.reshape(y,(5,1))\n",
    "    E = E + (1/2 * np.dot((a-y).T, (a-y)))\n",
    "    \n",
    "    return E"
   ]
  },
  {
   "cell_type": "code",
   "execution_count": 284,
   "id": "d00529e1-1f83-420e-8d36-9c2ecd51aa11",
   "metadata": {},
   "outputs": [
    {
     "name": "stdout",
     "output_type": "stream",
     "text": [
      "4.0\n"
     ]
    }
   ],
   "source": [
    "E = 0\n",
    "E = compute_cost(a, Y[:,0], E)\n",
    "print(np.squeeze(E))"
   ]
  },
  {
   "cell_type": "markdown",
   "id": "1e2417bc-5eb6-4ef1-a76d-c2afa02ce608",
   "metadata": {},
   "source": [
    "### Backward propagation"
   ]
  },
  {
   "cell_type": "code",
   "execution_count": 285,
   "id": "07bee45c-75b6-44e7-b573-6ad112e52bbd",
   "metadata": {},
   "outputs": [],
   "source": [
    "def backward_propagation(a, y, x):\n",
    "    \n",
    "    y = np.reshape(y, (5,1))\n",
    "    x = np.reshape(x, (2,1))\n",
    "    \n",
    "    dZ = y - a\n",
    "    \n",
    "    #print(dZ)\n",
    "    \n",
    "    dW = np.dot(dZ,x.T)\n",
    "    \n",
    "    #print(dW)\n",
    "    \n",
    "    db = dZ\n",
    "    \n",
    "    return dW, db"
   ]
  },
  {
   "cell_type": "code",
   "execution_count": 286,
   "id": "b33d2fb3-3be8-4cf4-ba4b-40e244404e3d",
   "metadata": {},
   "outputs": [
    {
     "name": "stdout",
     "output_type": "stream",
     "text": [
      "[[-0.00705414 -0.00474279]\n",
      " [-0.00408676 -0.0272891 ]\n",
      " [-0.00540773  0.00446482]\n",
      " [ 0.00024093  0.00349204]\n",
      " [ 0.01429236 -0.00453997]]\n",
      "[[ 1.]\n",
      " [ 1.]\n",
      " [-1.]\n",
      " [-1.]\n",
      " [ 1.]]\n",
      "[ 1. -1. -1. -1. -1.]\n",
      "[[ 0.         0.       ]\n",
      " [-8.0936922 14.9844576]\n",
      " [ 0.         0.       ]\n",
      " [ 0.         0.       ]\n",
      " [-8.0936922 14.9844576]]\n",
      "[[ 0.]\n",
      " [-2.]\n",
      " [ 0.]\n",
      " [ 0.]\n",
      " [-2.]]\n"
     ]
    }
   ],
   "source": [
    "print(W)\n",
    "print(a)\n",
    "print(Y[:,0])\n",
    "dW, db = backward_propagation(a, Y[:,0], X[:,0])\n",
    "print(dW)\n",
    "print(db)"
   ]
  },
  {
   "cell_type": "markdown",
   "id": "a8849ec9-1fc0-41fb-aa43-5bf9bb4bae30",
   "metadata": {},
   "source": [
    "### Update parameters (backward propagation)"
   ]
  },
  {
   "cell_type": "code",
   "execution_count": 287,
   "id": "90758795-5f9e-495c-b2c8-801b56bc87d3",
   "metadata": {},
   "outputs": [],
   "source": [
    "def update_parameters(W, b, dW, db, learning_rate):\n",
    "    W = W + learning_rate * dW\n",
    "    b = b + learning_rate * db\n",
    "    return W, b"
   ]
  },
  {
   "cell_type": "code",
   "execution_count": 288,
   "id": "dad94152-336e-4304-8ed5-fe14202f6e1b",
   "metadata": {},
   "outputs": [
    {
     "name": "stdout",
     "output_type": "stream",
     "text": [
      "[[-0.00705414 -0.00474279]\n",
      " [-0.00408676 -0.0272891 ]\n",
      " [-0.00540773  0.00446482]\n",
      " [ 0.00024093  0.00349204]\n",
      " [ 0.01429236 -0.00453997]]\n",
      "[[-7.05413841e-03 -4.74279353e-03]\n",
      " [-8.13455982e-01  1.47115666e+00]\n",
      " [-5.40772922e-03  4.46481588e-03]\n",
      " [ 2.40926667e-04  3.49204195e-03]\n",
      " [-7.95076864e-01  1.49390579e+00]]\n"
     ]
    }
   ],
   "source": [
    "learning_rate = 0.1\n",
    "print(W)\n",
    "W, b = update_parameters(W, b, dW, db, learning_rate)\n",
    "print(W)"
   ]
  },
  {
   "cell_type": "code",
   "execution_count": 289,
   "id": "b61a22da-faba-4577-b9d2-c34b67a96873",
   "metadata": {},
   "outputs": [
    {
     "name": "stdout",
     "output_type": "stream",
     "text": [
      "[[ 6.98708178e-03]\n",
      " [-1.45141735e+01]\n",
      " [-5.53356700e-02]\n",
      " [-2.51881842e-02]\n",
      " [-1.46102377e+01]]\n",
      "[[ 1.]\n",
      " [-1.]\n",
      " [-1.]\n",
      " [-1.]\n",
      " [-1.]]\n"
     ]
    }
   ],
   "source": [
    "a = forward_propagation(X[:,0], W, b)\n",
    "print(a)"
   ]
  },
  {
   "cell_type": "markdown",
   "id": "a282a8a7-f0a8-4bb1-9061-a82a3399ced2",
   "metadata": {},
   "source": [
    "# Model"
   ]
  },
  {
   "cell_type": "code",
   "execution_count": 310,
   "id": "189a6827-0f1e-4f96-bd2f-79c1d60df203",
   "metadata": {},
   "outputs": [],
   "source": [
    "def nn_model(X, Y, learning_rate, num_iterations, print_cost):\n",
    "    \n",
    "    W, b = initialize_parameters(2,5)\n",
    "    print(W)\n",
    "    print(b)\n",
    "    # pocatecni chyba\n",
    "    E = 0\n",
    "    \n",
    "    for i in range(0, num_iterations):\n",
    "        \n",
    "        for j in range(0, X.shape[1]):\n",
    "                       \n",
    "            a = forward_propagation(X[:,j], W, b)\n",
    "            E = compute_cost(a, Y[:,j], E)\n",
    "            dW, db = backward_propagation(a, Y[:,j], X[:,j])\n",
    "            W, b = update_parameters(W, b, dW, db, learning_rate)\n",
    "            \n",
    "        if print_cost and i % 1 == 0:\n",
    "            print (\"Cost after iteration %i: %f\" %(i, E))\n",
    "    \n",
    "    return W,b"
   ]
  },
  {
   "cell_type": "code",
   "execution_count": 312,
   "id": "63c98473-0bbf-4031-82a8-ef6001b8a442",
   "metadata": {},
   "outputs": [
    {
     "name": "stdout",
     "output_type": "stream",
     "text": [
      "[[-0.00267505  0.00569837]\n",
      " [ 0.00377291  0.00843852]\n",
      " [ 0.00988967 -0.00527847]\n",
      " [ 0.00220525  0.01405067]\n",
      " [ 0.02233033  0.0015243 ]]\n",
      "[[0.]\n",
      " [0.]\n",
      " [0.]\n",
      " [0.]\n",
      " [0.]]\n",
      "Cost after iteration 0: 26.000000\n",
      "Cost after iteration 1: 56.000000\n",
      "Cost after iteration 2: 86.000000\n",
      "Cost after iteration 3: 112.000000\n",
      "Cost after iteration 4: 140.000000\n",
      "Cost after iteration 5: 162.000000\n",
      "Cost after iteration 6: 194.000000\n",
      "Cost after iteration 7: 222.000000\n",
      "Cost after iteration 8: 248.000000\n",
      "Cost after iteration 9: 286.000000\n",
      "Cost after iteration 10: 308.000000\n",
      "Cost after iteration 11: 332.000000\n",
      "Cost after iteration 12: 346.000000\n",
      "Cost after iteration 13: 362.000000\n",
      "Cost after iteration 14: 378.000000\n",
      "Cost after iteration 15: 386.000000\n",
      "Cost after iteration 16: 402.000000\n",
      "Cost after iteration 17: 414.000000\n",
      "Cost after iteration 18: 430.000000\n",
      "Cost after iteration 19: 438.000000\n"
     ]
    }
   ],
   "source": [
    "W,b = nn_model(X, Y, learning_rate=0.1, num_iterations=20, print_cost=True)"
   ]
  },
  {
   "cell_type": "code",
   "execution_count": 313,
   "id": "99bfdd88-73cc-47ff-bdeb-44ff521465e2",
   "metadata": {},
   "outputs": [
    {
     "name": "stdout",
     "output_type": "stream",
     "text": [
      "[[ 1.]\n",
      " [-1.]\n",
      " [-1.]\n",
      " [-1.]\n",
      " [ 1.]]\n"
     ]
    }
   ],
   "source": [
    "a = forward_propagation(X[:,0], W, b)\n",
    "print(a)"
   ]
  },
  {
   "cell_type": "code",
   "execution_count": null,
   "id": "a42fb25e-cc45-4217-bb9c-392c7dae53b4",
   "metadata": {},
   "outputs": [],
   "source": []
  }
 ],
 "metadata": {
  "kernelspec": {
   "display_name": "Python 3 (ipykernel)",
   "language": "python",
   "name": "python3"
  },
  "language_info": {
   "codemirror_mode": {
    "name": "ipython",
    "version": 3
   },
   "file_extension": ".py",
   "mimetype": "text/x-python",
   "name": "python",
   "nbconvert_exporter": "python",
   "pygments_lexer": "ipython3",
   "version": "3.9.5"
  }
 },
 "nbformat": 4,
 "nbformat_minor": 5
}
